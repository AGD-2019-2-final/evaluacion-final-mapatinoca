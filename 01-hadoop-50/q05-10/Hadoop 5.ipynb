{
 "cells": [
  {
   "cell_type": "code",
   "execution_count": 1,
   "metadata": {},
   "outputs": [
    {
     "name": "stdout",
     "output_type": "stream",
     "text": [
      "B   1999-08-28   14\n",
      "E   1999-12-06   12\n",
      "E   1993-07-21   17\n",
      "C   1991-02-12   13\n",
      "E   1995-04-25   16\n",
      "A   1992-08-22   14\n",
      "B   1999-06-11   12\n",
      "E   1993-01-27   13\n",
      "E   1999-09-10   11\n",
      "E   1990-05-03   16\n",
      "E   1994-02-14   10\n",
      "A   1988-04-27   12\n",
      "A   1990-10-06   10\n",
      "E   1985-02-12   16\n",
      "E   1998-09-14   16\n",
      "B   1994-08-30   17\n",
      "A   1997-12-15   13\n",
      "B   1995-08-23   10\n",
      "B   1998-11-22   13\n",
      "B   1997-04-09   14\n",
      "E   1993-12-27   18\n",
      "E   1999-01-14   15\n",
      "A   1992-09-19   18\n",
      "B   1993-03-02   14\n",
      "B   1999-10-21   13\n",
      "A   1990-08-31   12\n",
      "C   1994-01-25   10\n",
      "E   1990-02-09   18\n",
      "A   1990-09-26   14\n",
      "A   1993-05-08   16\n",
      "B   1995-09-06   14\n",
      "E   1991-02-18   14\n",
      "A   1993-01-11   14\n",
      "A   1990-07-22   18\n",
      "C   1994-09-09   15\n",
      "C   1994-07-27   10\n",
      "D   1990-10-10   15\n",
      "A   1990-09-05   11\n",
      "B   1991-10-01   15\n",
      "A   1994-10-25   13"
     ]
    }
   ],
   "source": [
    "!cat ./data.csv "
   ]
  },
  {
   "cell_type": "code",
   "execution_count": 2,
   "metadata": {},
   "outputs": [
    {
     "name": "stdout",
     "output_type": "stream",
     "text": [
      "Overwriting mapper.py\n"
     ]
    }
   ],
   "source": [
    "%%writefile mapper.py\n",
    "#! /usr/bin/env python\n",
    "import sys\n",
    "if __name__ == \"__main__\":\n",
    "\n",
    "    ##\n",
    "    ## itera sobre cada linea de codigo recibida\n",
    "    ## a traves del flujo de entrada\n",
    "    ##\n",
    "    for line in sys.stdin:\n",
    "        letra = \"\"\n",
    "        valor = 0\n",
    "                \n",
    "        line = line.strip()\n",
    "        splits = line.split()\n",
    "        letra = splits[0]\n",
    "        fecha = splits[1]\n",
    "        valor = splits[2]\n",
    "        \n",
    "        anio, mes, dia = fecha.split('-')\n",
    "        \n",
    "        sys.stdout.write(\"{}\\t1\\n\".format(mes))"
   ]
  },
  {
   "cell_type": "code",
   "execution_count": 3,
   "metadata": {},
   "outputs": [],
   "source": [
    "!chmod +x mapper.py"
   ]
  },
  {
   "cell_type": "code",
   "execution_count": 4,
   "metadata": {},
   "outputs": [
    {
     "name": "stdout",
     "output_type": "stream",
     "text": [
      "08\t1\n",
      "12\t1\n",
      "07\t1\n",
      "02\t1\n",
      "04\t1\n",
      "08\t1\n",
      "06\t1\n",
      "01\t1\n",
      "09\t1\n",
      "05\t1\n",
      "02\t1\n",
      "04\t1\n",
      "10\t1\n",
      "02\t1\n",
      "09\t1\n",
      "08\t1\n",
      "12\t1\n",
      "08\t1\n",
      "11\t1\n",
      "04\t1\n",
      "12\t1\n",
      "01\t1\n",
      "09\t1\n",
      "03\t1\n",
      "10\t1\n",
      "08\t1\n",
      "01\t1\n",
      "02\t1\n",
      "09\t1\n",
      "05\t1\n",
      "09\t1\n",
      "02\t1\n",
      "01\t1\n",
      "07\t1\n",
      "09\t1\n",
      "07\t1\n",
      "10\t1\n",
      "09\t1\n",
      "10\t1\n",
      "10\t1\n"
     ]
    }
   ],
   "source": [
    "!cat ./data.csv  | ./mapper.py "
   ]
  },
  {
   "cell_type": "code",
   "execution_count": 5,
   "metadata": {},
   "outputs": [
    {
     "name": "stdout",
     "output_type": "stream",
     "text": [
      "Overwriting reducer.py\n"
     ]
    }
   ],
   "source": [
    "%%writefile reducer.py\n",
    "#!/usr/bin/env python\n",
    "import sys\n",
    "#\n",
    "# >>> Escriba el codigo del reducer a partir de este punto <<<\n",
    "#\n",
    "#!/usr/bin/env python\n",
    "\n",
    "import sys\n",
    "\n",
    "##\n",
    "## Esta funcion reduce los elementos que\n",
    "## tienen la misma clave\n",
    "##\n",
    "\n",
    "if __name__ == '__main__':\n",
    "\n",
    "    curkey = None\n",
    "    total = 0\n",
    "    ultiProp = None\n",
    "    valor = None\n",
    "    ultVal = None\n",
    "\n",
    "    ##\n",
    "    ## cada linea de texto recibida es una\n",
    "    ## entrada clave \\tabulador valor\n",
    "    ##\n",
    "    for line in sys.stdin:\n",
    "\n",
    "        mes, cont = line.split('\\t')\n",
    "        cont = int(cont)\n",
    "                \n",
    "        if mes == curkey:\n",
    "            \n",
    "            total += cont\n",
    "        else:\n",
    "            \n",
    "            if curkey is not None:\n",
    "                \n",
    "                sys.stdout.write(\"{}\\t{}\\n\".format(curkey,total))\n",
    "                \n",
    "            curkey = mes\n",
    "            total = cont\n",
    "                           \n",
    "    sys.stdout.write(\"{}\\t{}\\n\".format(curkey,total))"
   ]
  },
  {
   "cell_type": "code",
   "execution_count": 6,
   "metadata": {},
   "outputs": [],
   "source": [
    "!chmod +x reducer.py"
   ]
  },
  {
   "cell_type": "code",
   "execution_count": 7,
   "metadata": {},
   "outputs": [
    {
     "name": "stdout",
     "output_type": "stream",
     "text": [
      "01\t4\n",
      "02\t5\n",
      "03\t1\n",
      "04\t3\n",
      "05\t2\n",
      "06\t1\n",
      "07\t3\n",
      "08\t5\n",
      "09\t7\n",
      "10\t5\n",
      "11\t1\n",
      "12\t3\n"
     ]
    }
   ],
   "source": [
    "!cat ./data.csv | ./mapper.py  | sort | ./reducer.py"
   ]
  }
 ],
 "metadata": {
  "kernelspec": {
   "display_name": "Python 3",
   "language": "python",
   "name": "python3"
  },
  "language_info": {
   "codemirror_mode": {
    "name": "ipython",
    "version": 3
   },
   "file_extension": ".py",
   "mimetype": "text/x-python",
   "name": "python",
   "nbconvert_exporter": "python",
   "pygments_lexer": "ipython3",
   "version": "3.6.8"
  }
 },
 "nbformat": 4,
 "nbformat_minor": 4
}
