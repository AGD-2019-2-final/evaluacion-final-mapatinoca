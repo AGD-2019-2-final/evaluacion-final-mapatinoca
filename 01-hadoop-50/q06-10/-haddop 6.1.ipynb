{
 "cells": [
  {
   "cell_type": "code",
   "execution_count": 494,
   "metadata": {},
   "outputs": [
    {
     "name": "stdout",
     "output_type": "stream",
     "text": [
      "B   1999-08-28   14.1\n",
      "E   1999-12-06   12.2\n",
      "E   1993-07-21   17.0\n",
      "C   1991-02-12   13.8\n",
      "E   1995-04-25   16.9\n",
      "A   1992-08-22   14.8\n",
      "B   1999-06-11   12.1\n",
      "E   1993-01-27   13.2\n",
      "E   1999-09-10   11.3\n",
      "E   1990-05-03   16.4\n",
      "E   1994-02-14   10.5\n",
      "A   1988-04-27   12.6\n",
      "A   1990-10-06   10.7\n",
      "E   1985-02-12   16.8\n",
      "E   1998-09-14   16.9\n",
      "B   1994-08-30   17.0\n",
      "A   1997-12-15   13.6\n",
      "B   1995-08-23   10.7\n",
      "B   1998-11-22   13.8\n",
      "B   1997-04-09   14.9\n",
      "E   1993-12-27   18.4\n",
      "E   1999-01-14   15.3\n",
      "A   1992-09-19   18.2\n",
      "B   1993-03-02   14.4\n",
      "B   1999-10-21   13.5\n",
      "A   1990-08-31   12.6\n",
      "C   1994-01-25   10.7\n",
      "E   1990-02-09   18.8\n",
      "A   1990-09-26   14.9\n",
      "A   1993-05-08   16.8\n",
      "B   1995-09-06   14.7\n",
      "E   1991-02-18   14.6\n",
      "A   1993-01-11   14.5\n",
      "A   1990-07-22   18.4\n",
      "C   1994-09-09   15.3\n",
      "C   1994-07-27   10.2\n",
      "D   1990-10-10   15.1\n",
      "A   1990-09-05   11.0\n",
      "B   1991-10-01   15.0\n",
      "A   1994-10-25   13.1"
     ]
    }
   ],
   "source": [
    "!cat ./data.csv  "
   ]
  },
  {
   "cell_type": "code",
   "execution_count": 495,
   "metadata": {},
   "outputs": [
    {
     "name": "stdout",
     "output_type": "stream",
     "text": [
      "Overwriting mapper.py\n"
     ]
    }
   ],
   "source": [
    "%%writefile mapper.py\n",
    "#! /usr/bin/python3\n",
    "\n",
    "##\n",
    "## Esta es la funcion que mapea la entrada a parejas (clave, valor)\n",
    "##\n",
    "import sys\n",
    "if __name__ == \"__main__\":\n",
    "\n",
    "    ##\n",
    "    ## itera sobre cada linea de codigo recibida\n",
    "    ## a traves del flujo de entrada\n",
    "    ##        \n",
    "    for line in sys.stdin:\n",
    "        letra = \"\"\n",
    "        valor = \"\"\n",
    "        cantidad = 0\n",
    "        \n",
    "        line = line.strip()\n",
    "        splits = line.split()\n",
    "        letra = splits[0]\n",
    "        valor = splits[2]\n",
    "\n",
    "        ##\n",
    "        ## genera las tuplas palabra \\tabulador 1\n",
    "        ## ya que es un conteo de palabras\n",
    "        ##\n",
    "            ##\n",
    "            ## escribe al flujo estandar de salida\n",
    "            ##\n",
    "        sys.stdout.write(\"{}\\t{}\\n\".format(letra,valor))"
   ]
  },
  {
   "cell_type": "code",
   "execution_count": 496,
   "metadata": {},
   "outputs": [],
   "source": [
    "!chmod +x mapper.py"
   ]
  },
  {
   "cell_type": "code",
   "execution_count": 497,
   "metadata": {},
   "outputs": [
    {
     "name": "stdout",
     "output_type": "stream",
     "text": [
      "B\t14.1\n",
      "E\t12.2\n",
      "E\t17.0\n",
      "C\t13.8\n",
      "E\t16.9\n",
      "A\t14.8\n",
      "B\t12.1\n",
      "E\t13.2\n",
      "E\t11.3\n",
      "E\t16.4\n",
      "E\t10.5\n",
      "A\t12.6\n",
      "A\t10.7\n",
      "E\t16.8\n",
      "E\t16.9\n",
      "B\t17.0\n",
      "A\t13.6\n",
      "B\t10.7\n",
      "B\t13.8\n",
      "B\t14.9\n",
      "E\t18.4\n",
      "E\t15.3\n",
      "A\t18.2\n",
      "B\t14.4\n",
      "B\t13.5\n",
      "A\t12.6\n",
      "C\t10.7\n",
      "E\t18.8\n",
      "A\t14.9\n",
      "A\t16.8\n",
      "B\t14.7\n",
      "E\t14.6\n",
      "A\t14.5\n",
      "A\t18.4\n",
      "C\t15.3\n",
      "C\t10.2\n",
      "D\t15.1\n",
      "A\t11.0\n",
      "B\t15.0\n",
      "A\t13.1\n"
     ]
    }
   ],
   "source": [
    "!cat ./data.csv  | ./mapper.py "
   ]
  },
  {
   "cell_type": "code",
   "execution_count": 498,
   "metadata": {},
   "outputs": [
    {
     "name": "stdout",
     "output_type": "stream",
     "text": [
      "Overwriting reducer.py\n"
     ]
    }
   ],
   "source": [
    "%%writefile reducer.py\n",
    "#! /usr/bin/python3\n",
    "\n",
    "import sys\n",
    "\n",
    "##\n",
    "## Esta funcion reduce los elementos que\n",
    "## tienen la misma clave\n",
    "##\n",
    "\n",
    "if __name__ == '__main__':\n",
    "\n",
    "    curkey = None\n",
    "    curkey2 = None\n",
    "    total = 0\n",
    "    total2 = 0\n",
    "\n",
    "    \n",
    "    for line in sys.stdin:\n",
    "        \n",
    "        key, val = line.split()\n",
    "        ##val = float(val)\n",
    "\n",
    "        if key == curkey:\n",
    "            \n",
    "            total += val\n",
    "        else:\n",
    "            if curkey is not None:\n",
    "               \n",
    "                sys.stdout.write(\"{}\\t{}\\t{}\\n\".format(curkey,total,total2))\n",
    "\n",
    "            curkey2 = key\n",
    "            total2 = val\n",
    "        curkey = key\n",
    "        total = val\n",
    "\n",
    "    sys.stdout.write(\"{}\\t{}\\t{}\\n\".format(curkey,total,total2))"
   ]
  },
  {
   "cell_type": "code",
   "execution_count": 499,
   "metadata": {},
   "outputs": [],
   "source": [
    "!chmod +x reducer.py"
   ]
  },
  {
   "cell_type": "code",
   "execution_count": 500,
   "metadata": {},
   "outputs": [
    {
     "name": "stdout",
     "output_type": "stream",
     "text": [
      "A\t18.4\t10.7\n",
      "B\t17.0\t10.7\n",
      "C\t15.3\t10.2\n",
      "D\t15.1\t15.1\n",
      "E\t18.8\t10.5\n"
     ]
    }
   ],
   "source": [
    "!cat ./data.csv | ./mapper.py  | sort | ./reducer.py"
   ]
  },
  {
   "cell_type": "code",
   "execution_count": null,
   "metadata": {},
   "outputs": [],
   "source": []
  }
 ],
 "metadata": {
  "kernelspec": {
   "display_name": "Python 3",
   "language": "python",
   "name": "python3"
  },
  "language_info": {
   "codemirror_mode": {
    "name": "ipython",
    "version": 3
   },
   "file_extension": ".py",
   "mimetype": "text/x-python",
   "name": "python",
   "nbconvert_exporter": "python",
   "pygments_lexer": "ipython3",
   "version": "3.6.8"
  }
 },
 "nbformat": 4,
 "nbformat_minor": 4
}
