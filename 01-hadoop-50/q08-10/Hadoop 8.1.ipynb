{
 "cells": [
  {
   "cell_type": "code",
   "execution_count": 8,
   "metadata": {},
   "outputs": [
    {
     "name": "stdout",
     "output_type": "stream",
     "text": [
      "B   1999-08-28   14\n",
      "E   1999-12-06   12\n",
      "E   1993-07-21   17\n",
      "C   1991-02-12   13\n",
      "E   1995-04-25   16\n",
      "A   1992-08-22   14\n",
      "B   1999-06-11   12\n",
      "E   1993-01-27   13\n",
      "E   1999-09-10   11\n",
      "E   1990-05-03   16\n",
      "E   1994-02-14   10\n",
      "A   1988-04-27   12\n",
      "A   1990-10-06   10\n",
      "E   1985-02-12   16\n",
      "E   1998-09-14   16\n",
      "B   1994-08-30   17\n",
      "A   1997-12-15   13\n",
      "B   1995-08-23   10\n",
      "B   1998-11-22   13\n",
      "B   1997-04-09   14\n",
      "E   1993-12-27   18\n",
      "E   1999-01-14   15\n",
      "A   1992-09-19   18\n",
      "B   1993-03-02   14\n",
      "B   1999-10-21   13\n",
      "A   1990-08-31   12\n",
      "C   1994-01-25   10\n",
      "E   1990-02-09   18\n",
      "A   1990-09-26   14\n",
      "A   1993-05-08   16\n",
      "B   1995-09-06   14\n",
      "E   1991-02-18   14\n",
      "A   1993-01-11   14\n",
      "A   1990-07-22   18\n",
      "C   1994-09-09   15\n",
      "C   1994-07-27   10\n",
      "D   1990-10-10   15\n",
      "A   1990-09-05   11\n",
      "B   1991-10-01   15\n",
      "A   1994-10-25   13"
     ]
    }
   ],
   "source": [
    "!cat ./data.csv"
   ]
  },
  {
   "cell_type": "code",
   "execution_count": 9,
   "metadata": {},
   "outputs": [
    {
     "name": "stdout",
     "output_type": "stream",
     "text": [
      "Overwriting mapper.py\n"
     ]
    }
   ],
   "source": [
    "%%writefile mapper.py\n",
    "#! /usr/bin/python3\n",
    "\n",
    "##\n",
    "## Esta es la funcion que mapea la entrada a parejas (clave, valor)\n",
    "##\n",
    "import sys\n",
    "if __name__ == \"__main__\":\n",
    "\n",
    "    ##\n",
    "    ## itera sobre cada linea de codigo recibida\n",
    "    ## a traves del flujo de entrada\n",
    "    ##        \n",
    "    for line in sys.stdin:\n",
    "        letra = \"\"\n",
    "        valor = \"\"\n",
    "        cantidad = 0\n",
    "        \n",
    "        line = line.strip()\n",
    "        splits = line.split()\n",
    "        letra = splits[0]\n",
    "        valor = splits[2]\n",
    "\n",
    "        ##\n",
    "        ## genera las tuplas palabra \\tabulador 1\n",
    "        ## ya que es un conteo de palabras\n",
    "        ##\n",
    "            ##\n",
    "            ## escribe al flujo estandar de salida\n",
    "            ##\n",
    "        sys.stdout.write(\"{}\\t{}\\n\".format(letra,valor))"
   ]
  },
  {
   "cell_type": "code",
   "execution_count": 10,
   "metadata": {},
   "outputs": [],
   "source": [
    "!chmod +x mapper.py"
   ]
  },
  {
   "cell_type": "code",
   "execution_count": 11,
   "metadata": {},
   "outputs": [
    {
     "name": "stdout",
     "output_type": "stream",
     "text": [
      "B\t14\n",
      "E\t12\n",
      "E\t17\n",
      "C\t13\n",
      "E\t16\n",
      "A\t14\n",
      "B\t12\n",
      "E\t13\n",
      "E\t11\n",
      "E\t16\n",
      "E\t10\n",
      "A\t12\n",
      "A\t10\n",
      "E\t16\n",
      "E\t16\n",
      "B\t17\n",
      "A\t13\n",
      "B\t10\n",
      "B\t13\n",
      "B\t14\n",
      "E\t18\n",
      "E\t15\n",
      "A\t18\n",
      "B\t14\n",
      "B\t13\n",
      "A\t12\n",
      "C\t10\n",
      "E\t18\n",
      "A\t14\n",
      "A\t16\n",
      "B\t14\n",
      "E\t14\n",
      "A\t14\n",
      "A\t18\n",
      "C\t15\n",
      "C\t10\n",
      "D\t15\n",
      "A\t11\n",
      "B\t15\n",
      "A\t13\n"
     ]
    }
   ],
   "source": [
    "!cat ./data.csv  | ./mapper.py "
   ]
  },
  {
   "cell_type": "code",
   "execution_count": 14,
   "metadata": {},
   "outputs": [
    {
     "name": "stdout",
     "output_type": "stream",
     "text": [
      "Overwriting reducer.py\n"
     ]
    }
   ],
   "source": [
    "%%writefile reducer.py\n",
    "#!/usr/bin/python\n",
    "#Reducer.py\n",
    "import sys\n",
    "\n",
    "word = {}\n",
    "\n",
    "#Partitoner\n",
    "for line in sys.stdin:\n",
    "    line = line.strip()\n",
    "    key, val = line.split('\\t')\n",
    "\n",
    "    if key in word:\n",
    "        word[key].append(float(val))\n",
    "        \n",
    "    else:\n",
    "        word[key] = []\n",
    "        word[key].append(float(val))\n",
    "    \n",
    "#Reducer\n",
    "for key in word.keys():\n",
    "    suma = sum(word[key])\n",
    "    ave_age = sum(word[key])*1.0 / len(word[key])\n",
    "    \n",
    "    word[key].sort()\n",
    "    \n",
    "    sys.stdout.write(\"{}\\t{}\\t{}\\n\".format(key,suma,ave_age))"
   ]
  },
  {
   "cell_type": "code",
   "execution_count": 15,
   "metadata": {},
   "outputs": [],
   "source": [
    "!chmod +x reducer.py"
   ]
  },
  {
   "cell_type": "code",
   "execution_count": 16,
   "metadata": {},
   "outputs": [
    {
     "name": "stdout",
     "output_type": "stream",
     "text": [
      "A\t165.0\t13.75\n",
      "C\t48.0\t12.0\n",
      "B\t136.0\t13.6\n",
      "E\t192.0\t14.7692307692\n",
      "D\t15.0\t15.0\n"
     ]
    }
   ],
   "source": [
    "!cat ./data.csv | ./mapper.py  | sort | ./reducer.py"
   ]
  },
  {
   "cell_type": "code",
   "execution_count": null,
   "metadata": {},
   "outputs": [],
   "source": []
  }
 ],
 "metadata": {
  "kernelspec": {
   "display_name": "Python 3",
   "language": "python",
   "name": "python3"
  },
  "language_info": {
   "codemirror_mode": {
    "name": "ipython",
    "version": 3
   },
   "file_extension": ".py",
   "mimetype": "text/x-python",
   "name": "python",
   "nbconvert_exporter": "python",
   "pygments_lexer": "ipython3",
   "version": "3.6.8"
  }
 },
 "nbformat": 4,
 "nbformat_minor": 4
}
