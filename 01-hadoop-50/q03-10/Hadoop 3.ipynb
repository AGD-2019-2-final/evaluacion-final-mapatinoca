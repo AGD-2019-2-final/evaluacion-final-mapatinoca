{
 "cells": [
  {
   "cell_type": "code",
   "execution_count": 1,
   "metadata": {},
   "outputs": [
    {
     "name": "stdout",
     "output_type": "stream",
     "text": [
      "b,6\n",
      "a,3\n",
      "d,1\n",
      "c,2\n",
      "e,4\n",
      "f,5"
     ]
    }
   ],
   "source": [
    "!cat ./data.csv "
   ]
  },
  {
   "cell_type": "code",
   "execution_count": 2,
   "metadata": {},
   "outputs": [
    {
     "name": "stdout",
     "output_type": "stream",
     "text": [
      "d,1\n",
      "c,2\n",
      "a,3\n",
      "e,4\n",
      "f,5\n",
      "b,6\n"
     ]
    }
   ],
   "source": [
    "!cat ./data.csv | sort -t\",\" -k2"
   ]
  },
  {
   "cell_type": "code",
   "execution_count": 3,
   "metadata": {},
   "outputs": [
    {
     "name": "stdout",
     "output_type": "stream",
     "text": [
      "Overwriting mapper.py\n"
     ]
    }
   ],
   "source": [
    "%%writefile mapper.py\n",
    "#! /usr/bin/env python\n",
    "\n",
    "##\n",
    "## Esta es la funcion que mapea la entrada a parejas (clave, valor)\n",
    "##\n",
    "import sys\n",
    "if __name__ == \"__main__\":\n",
    "\n",
    "    ##\n",
    "    ## itera sobre cada linea de codigo recibida\n",
    "    ## a traves del flujo de entrada\n",
    "    ##\n",
    "    for line in sys.stdin:\n",
    "        letra = \"\"\n",
    "        valor = 0\n",
    "                \n",
    "        line = line.strip()\n",
    "        splits = line.split(',')\n",
    "        letra = splits[0]\n",
    "        valor = splits[1]\n",
    "        \n",
    "        sys.stdout.write(\"{}\\t{}\\n\".format(valor,letra))"
   ]
  },
  {
   "cell_type": "code",
   "execution_count": 4,
   "metadata": {},
   "outputs": [],
   "source": [
    "!chmod +x mapper.py"
   ]
  },
  {
   "cell_type": "code",
   "execution_count": 5,
   "metadata": {},
   "outputs": [
    {
     "name": "stdout",
     "output_type": "stream",
     "text": [
      "6\tb\n",
      "3\ta\n",
      "1\td\n",
      "2\tc\n",
      "4\te\n",
      "5\tf\n"
     ]
    }
   ],
   "source": [
    "!cat ./data.csv  | ./mapper.py "
   ]
  },
  {
   "cell_type": "code",
   "execution_count": 9,
   "metadata": {},
   "outputs": [
    {
     "name": "stdout",
     "output_type": "stream",
     "text": [
      "Overwriting reducer.py\n"
     ]
    }
   ],
   "source": [
    "%%writefile reducer.py\n",
    "#!/usr/bin/env python\n",
    "\n",
    "import sys\n",
    "\n",
    "##\n",
    "## Esta funcion reduce los elementos que\n",
    "## tienen la misma clave\n",
    "##\n",
    "\n",
    "if __name__ == '__main__':\n",
    "\n",
    "    curkey = None\n",
    "    total = 0\n",
    "    ultiProp = None\n",
    "    valor = None\n",
    "    ultVal = None\n",
    "\n",
    "    ##\n",
    "    ## cada linea de texto recibida es una\n",
    "    ## entrada clave \\tabulador valor\n",
    "    ##\n",
    "    for line in sys.stdin:\n",
    "\n",
    "        valor, letra = line.split()\n",
    "                           \n",
    "        sys.stdout.write(\"{},{}\\n\".format(letra,valor))"
   ]
  },
  {
   "cell_type": "code",
   "execution_count": 10,
   "metadata": {},
   "outputs": [],
   "source": [
    "!chmod +x reducer.py"
   ]
  },
  {
   "cell_type": "code",
   "execution_count": 11,
   "metadata": {},
   "outputs": [
    {
     "name": "stdout",
     "output_type": "stream",
     "text": [
      "d,1\n",
      "c,2\n",
      "a,3\n",
      "e,4\n",
      "f,5\n",
      "b,6\n"
     ]
    }
   ],
   "source": [
    "!cat ./data.csv | ./mapper.py  | sort | ./reducer.py"
   ]
  },
  {
   "cell_type": "code",
   "execution_count": null,
   "metadata": {},
   "outputs": [],
   "source": []
  }
 ],
 "metadata": {
  "kernelspec": {
   "display_name": "Python 3",
   "language": "python",
   "name": "python3"
  },
  "language_info": {
   "codemirror_mode": {
    "name": "ipython",
    "version": 3
   },
   "file_extension": ".py",
   "mimetype": "text/x-python",
   "name": "python",
   "nbconvert_exporter": "python",
   "pygments_lexer": "ipython3",
   "version": "3.6.8"
  }
 },
 "nbformat": 4,
 "nbformat_minor": 4
}
